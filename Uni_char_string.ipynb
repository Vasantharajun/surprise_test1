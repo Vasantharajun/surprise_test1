{
  "nbformat": 4,
  "nbformat_minor": 0,
  "metadata": {
    "colab": {
      "provenance": []
    },
    "kernelspec": {
      "name": "python3",
      "display_name": "Python 3"
    },
    "language_info": {
      "name": "python"
    }
  },
  "cells": [
    {
      "cell_type": "code",
      "execution_count": 25,
      "metadata": {
        "colab": {
          "base_uri": "https://localhost:8080/"
        },
        "id": "73eAKiw7y4rQ",
        "outputId": "00c1259d-ee78-4d1c-c6a6-17deee0ecebc"
      },
      "outputs": [
        {
          "output_type": "stream",
          "name": "stdout",
          "text": [
            "First non-repeating character is v and it's index is  2\n"
          ]
        }
      ],
      "source": [
        "#string = \"leetcode\"\n",
        "string = \"loveleetcode\"\n",
        "#string = \"aabb\"\n",
        "\n",
        "index = -1\n",
        "fnc = \"\"\n",
        "fnc_i =\"\"\n",
        " \n",
        "if len(string) == 0 :\n",
        "  print(\"EMTPY STRING\");\n",
        " \n",
        "for i in range(len(string)):\n",
        "    if string.count(string[i]) == 1:\n",
        "        fnc += string[i]\n",
        "        fnc_i = i\n",
        "        break\n",
        "    else:\n",
        "        index += 1\n",
        "if index == len(string)-1 :\n",
        "    print(-1) #(\"All characters are repeating or no non-repeating character\")\n",
        "else:\n",
        "    print(\"First non-repeating character is\", fnc , \"and it's index is \",fnc_i)"
      ]
    }
  ]
}