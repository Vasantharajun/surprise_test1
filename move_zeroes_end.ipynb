{
  "nbformat": 4,
  "nbformat_minor": 0,
  "metadata": {
    "colab": {
      "provenance": []
    },
    "kernelspec": {
      "name": "python3",
      "display_name": "Python 3"
    },
    "language_info": {
      "name": "python"
    }
  },
  "cells": [
    {
      "cell_type": "code",
      "execution_count": 2,
      "metadata": {
        "colab": {
          "base_uri": "https://localhost:8080/"
        },
        "id": "drc_YOPTwCYr",
        "outputId": "823b6b30-314b-471c-afae-0c42687dfa43"
      },
      "outputs": [
        {
          "output_type": "stream",
          "name": "stdout",
          "text": [
            "Array after pushing all zeros to end of array:\n",
            "[1, 9, 8, 4, 2, 7, 6, 9, 12, 25, 0, 0, 0, 0, 0]\n"
          ]
        }
      ],
      "source": [
        "# Python code to move all zeroes at the end of array\n",
        "\n",
        "# Function which pushes all zeros to end of an array.\n",
        "\n",
        "def PushZerosToEnd(arr, n):\n",
        "\tcount = 0 # Count of non-zero elements\n",
        "\t\n",
        "\t# Traverse the array. If element\n",
        "\t# encountered is non-zero, then\n",
        "\t# replace the element at index\n",
        "\t# 'count' with this element\n",
        "\tfor i in range(n):\n",
        "\t\tif arr[i] != 0:\n",
        "\t\t\t\n",
        "\t\t\t# here count is incremented\n",
        "\t\t\tarr[count] = arr[i]\n",
        "\t\t\tcount+=1\n",
        "\t\n",
        "\t# Now all non-zero elements have been\n",
        "\t# shifted to front and 'count' is set\n",
        "\t# as index of first 0. Make all\n",
        "\t# elements 0 from count to end.\n",
        "\twhile count < n:\n",
        "\t\tarr[count] = 0\n",
        "\t\tcount += 1\n",
        "\t\t\n",
        "# Driver code\n",
        "arr = [1, 9, 8, 4, 0, 0, 2, 7, 0, 6, 0, 9, 0, 12, 25]\n",
        "n = len(arr)\n",
        "PushZerosToEnd(arr, n)\n",
        "print(\"Array after pushing all zeros to end of array:\")\n",
        "print(arr)"
      ]
    },
    {
      "cell_type": "code",
      "source": [],
      "metadata": {
        "id": "rvvQ-VrbwvFN"
      },
      "execution_count": null,
      "outputs": []
    }
  ]
}